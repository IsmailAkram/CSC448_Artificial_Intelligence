{
 "cells": [
  {
   "cell_type": "markdown",
   "id": "4648de55",
   "metadata": {},
   "source": [
    "[![Open In Colab](https://colab.research.google.com/assets/colab-badge.svg)](https://colab.research.google.com/github/IsmailAkram/Assignment_4/blob/main/Assignment_4.ipynb)"
   ]
  },
  {
   "cell_type": "code",
   "execution_count": 1,
   "id": "5ac8767b",
   "metadata": {},
   "outputs": [],
   "source": [
    "# Imports and pip installations (if needed)\n",
    "import pandas as pd\n",
    "import numpy as np"
   ]
  },
  {
   "cell_type": "markdown",
   "id": "edb90275",
   "metadata": {},
   "source": [
    "Context reference for future reviews: https://hmcnich.gitbook.io/csc448-f21/assignment-4-judging-flowers"
   ]
  },
  {
   "cell_type": "markdown",
   "id": "0ceb7f69",
   "metadata": {},
   "source": [
    "# Part 1: Load the dataset"
   ]
  },
  {
   "cell_type": "code",
   "execution_count": 2,
   "id": "c17a8d4f",
   "metadata": {},
   "outputs": [],
   "source": [
    "# Load the dataset (load remotely, not locally)\n",
    "from sklearn.datasets import load_iris\n",
    "iris = load_iris()\n",
    "iris_df = pd.DataFrame(iris['data'], columns = iris.feature_names) # transforming load_iris dictionary into a dataset\n",
    "iris_df[\"species\"] = iris.target # adding species column"
   ]
  },
  {
   "cell_type": "code",
   "execution_count": 3,
   "id": "b9b7d9bb",
   "metadata": {},
   "outputs": [
    {
     "data": {
      "text/html": [
       "<div>\n",
       "<style scoped>\n",
       "    .dataframe tbody tr th:only-of-type {\n",
       "        vertical-align: middle;\n",
       "    }\n",
       "\n",
       "    .dataframe tbody tr th {\n",
       "        vertical-align: top;\n",
       "    }\n",
       "\n",
       "    .dataframe thead th {\n",
       "        text-align: right;\n",
       "    }\n",
       "</style>\n",
       "<table border=\"1\" class=\"dataframe\">\n",
       "  <thead>\n",
       "    <tr style=\"text-align: right;\">\n",
       "      <th></th>\n",
       "      <th>sepal length (cm)</th>\n",
       "      <th>sepal width (cm)</th>\n",
       "      <th>petal length (cm)</th>\n",
       "      <th>petal width (cm)</th>\n",
       "      <th>species</th>\n",
       "    </tr>\n",
       "  </thead>\n",
       "  <tbody>\n",
       "    <tr>\n",
       "      <th>0</th>\n",
       "      <td>5.1</td>\n",
       "      <td>3.5</td>\n",
       "      <td>1.4</td>\n",
       "      <td>0.2</td>\n",
       "      <td>0</td>\n",
       "    </tr>\n",
       "    <tr>\n",
       "      <th>1</th>\n",
       "      <td>4.9</td>\n",
       "      <td>3.0</td>\n",
       "      <td>1.4</td>\n",
       "      <td>0.2</td>\n",
       "      <td>0</td>\n",
       "    </tr>\n",
       "    <tr>\n",
       "      <th>2</th>\n",
       "      <td>4.7</td>\n",
       "      <td>3.2</td>\n",
       "      <td>1.3</td>\n",
       "      <td>0.2</td>\n",
       "      <td>0</td>\n",
       "    </tr>\n",
       "    <tr>\n",
       "      <th>3</th>\n",
       "      <td>4.6</td>\n",
       "      <td>3.1</td>\n",
       "      <td>1.5</td>\n",
       "      <td>0.2</td>\n",
       "      <td>0</td>\n",
       "    </tr>\n",
       "    <tr>\n",
       "      <th>4</th>\n",
       "      <td>5.0</td>\n",
       "      <td>3.6</td>\n",
       "      <td>1.4</td>\n",
       "      <td>0.2</td>\n",
       "      <td>0</td>\n",
       "    </tr>\n",
       "    <tr>\n",
       "      <th>5</th>\n",
       "      <td>5.4</td>\n",
       "      <td>3.9</td>\n",
       "      <td>1.7</td>\n",
       "      <td>0.4</td>\n",
       "      <td>0</td>\n",
       "    </tr>\n",
       "    <tr>\n",
       "      <th>6</th>\n",
       "      <td>4.6</td>\n",
       "      <td>3.4</td>\n",
       "      <td>1.4</td>\n",
       "      <td>0.3</td>\n",
       "      <td>0</td>\n",
       "    </tr>\n",
       "    <tr>\n",
       "      <th>7</th>\n",
       "      <td>5.0</td>\n",
       "      <td>3.4</td>\n",
       "      <td>1.5</td>\n",
       "      <td>0.2</td>\n",
       "      <td>0</td>\n",
       "    </tr>\n",
       "    <tr>\n",
       "      <th>8</th>\n",
       "      <td>4.4</td>\n",
       "      <td>2.9</td>\n",
       "      <td>1.4</td>\n",
       "      <td>0.2</td>\n",
       "      <td>0</td>\n",
       "    </tr>\n",
       "    <tr>\n",
       "      <th>9</th>\n",
       "      <td>4.9</td>\n",
       "      <td>3.1</td>\n",
       "      <td>1.5</td>\n",
       "      <td>0.1</td>\n",
       "      <td>0</td>\n",
       "    </tr>\n",
       "    <tr>\n",
       "      <th>10</th>\n",
       "      <td>5.4</td>\n",
       "      <td>3.7</td>\n",
       "      <td>1.5</td>\n",
       "      <td>0.2</td>\n",
       "      <td>0</td>\n",
       "    </tr>\n",
       "    <tr>\n",
       "      <th>11</th>\n",
       "      <td>4.8</td>\n",
       "      <td>3.4</td>\n",
       "      <td>1.6</td>\n",
       "      <td>0.2</td>\n",
       "      <td>0</td>\n",
       "    </tr>\n",
       "    <tr>\n",
       "      <th>12</th>\n",
       "      <td>4.8</td>\n",
       "      <td>3.0</td>\n",
       "      <td>1.4</td>\n",
       "      <td>0.1</td>\n",
       "      <td>0</td>\n",
       "    </tr>\n",
       "    <tr>\n",
       "      <th>13</th>\n",
       "      <td>4.3</td>\n",
       "      <td>3.0</td>\n",
       "      <td>1.1</td>\n",
       "      <td>0.1</td>\n",
       "      <td>0</td>\n",
       "    </tr>\n",
       "    <tr>\n",
       "      <th>14</th>\n",
       "      <td>5.8</td>\n",
       "      <td>4.0</td>\n",
       "      <td>1.2</td>\n",
       "      <td>0.2</td>\n",
       "      <td>0</td>\n",
       "    </tr>\n",
       "  </tbody>\n",
       "</table>\n",
       "</div>"
      ],
      "text/plain": [
       "    sepal length (cm)  sepal width (cm)  petal length (cm)  petal width (cm)  \\\n",
       "0                 5.1               3.5                1.4               0.2   \n",
       "1                 4.9               3.0                1.4               0.2   \n",
       "2                 4.7               3.2                1.3               0.2   \n",
       "3                 4.6               3.1                1.5               0.2   \n",
       "4                 5.0               3.6                1.4               0.2   \n",
       "5                 5.4               3.9                1.7               0.4   \n",
       "6                 4.6               3.4                1.4               0.3   \n",
       "7                 5.0               3.4                1.5               0.2   \n",
       "8                 4.4               2.9                1.4               0.2   \n",
       "9                 4.9               3.1                1.5               0.1   \n",
       "10                5.4               3.7                1.5               0.2   \n",
       "11                4.8               3.4                1.6               0.2   \n",
       "12                4.8               3.0                1.4               0.1   \n",
       "13                4.3               3.0                1.1               0.1   \n",
       "14                5.8               4.0                1.2               0.2   \n",
       "\n",
       "    species  \n",
       "0         0  \n",
       "1         0  \n",
       "2         0  \n",
       "3         0  \n",
       "4         0  \n",
       "5         0  \n",
       "6         0  \n",
       "7         0  \n",
       "8         0  \n",
       "9         0  \n",
       "10        0  \n",
       "11        0  \n",
       "12        0  \n",
       "13        0  \n",
       "14        0  "
      ]
     },
     "execution_count": 3,
     "metadata": {},
     "output_type": "execute_result"
    }
   ],
   "source": [
    "# Output the first 15 rows of the data\n",
    "iris_df.head(15)"
   ]
  },
  {
   "cell_type": "code",
   "execution_count": 4,
   "id": "935973bb",
   "metadata": {},
   "outputs": [
    {
     "name": "stdout",
     "output_type": "stream",
     "text": [
      "<class 'pandas.core.frame.DataFrame'>\n",
      "RangeIndex: 150 entries, 0 to 149\n",
      "Data columns (total 5 columns):\n",
      " #   Column             Non-Null Count  Dtype  \n",
      "---  ------             --------------  -----  \n",
      " 0   sepal length (cm)  150 non-null    float64\n",
      " 1   sepal width (cm)   150 non-null    float64\n",
      " 2   petal length (cm)  150 non-null    float64\n",
      " 3   petal width (cm)   150 non-null    float64\n",
      " 4   species            150 non-null    int32  \n",
      "dtypes: float64(4), int32(1)\n",
      "memory usage: 5.4 KB\n"
     ]
    },
    {
     "data": {
      "text/html": [
       "<div>\n",
       "<style scoped>\n",
       "    .dataframe tbody tr th:only-of-type {\n",
       "        vertical-align: middle;\n",
       "    }\n",
       "\n",
       "    .dataframe tbody tr th {\n",
       "        vertical-align: top;\n",
       "    }\n",
       "\n",
       "    .dataframe thead th {\n",
       "        text-align: right;\n",
       "    }\n",
       "</style>\n",
       "<table border=\"1\" class=\"dataframe\">\n",
       "  <thead>\n",
       "    <tr style=\"text-align: right;\">\n",
       "      <th></th>\n",
       "      <th>sepal length (cm)</th>\n",
       "      <th>sepal width (cm)</th>\n",
       "      <th>petal length (cm)</th>\n",
       "      <th>petal width (cm)</th>\n",
       "      <th>species</th>\n",
       "    </tr>\n",
       "  </thead>\n",
       "  <tbody>\n",
       "    <tr>\n",
       "      <th>count</th>\n",
       "      <td>150.000000</td>\n",
       "      <td>150.000000</td>\n",
       "      <td>150.000000</td>\n",
       "      <td>150.000000</td>\n",
       "      <td>150.000000</td>\n",
       "    </tr>\n",
       "    <tr>\n",
       "      <th>mean</th>\n",
       "      <td>5.843333</td>\n",
       "      <td>3.057333</td>\n",
       "      <td>3.758000</td>\n",
       "      <td>1.199333</td>\n",
       "      <td>1.000000</td>\n",
       "    </tr>\n",
       "    <tr>\n",
       "      <th>std</th>\n",
       "      <td>0.828066</td>\n",
       "      <td>0.435866</td>\n",
       "      <td>1.765298</td>\n",
       "      <td>0.762238</td>\n",
       "      <td>0.819232</td>\n",
       "    </tr>\n",
       "    <tr>\n",
       "      <th>min</th>\n",
       "      <td>4.300000</td>\n",
       "      <td>2.000000</td>\n",
       "      <td>1.000000</td>\n",
       "      <td>0.100000</td>\n",
       "      <td>0.000000</td>\n",
       "    </tr>\n",
       "    <tr>\n",
       "      <th>25%</th>\n",
       "      <td>5.100000</td>\n",
       "      <td>2.800000</td>\n",
       "      <td>1.600000</td>\n",
       "      <td>0.300000</td>\n",
       "      <td>0.000000</td>\n",
       "    </tr>\n",
       "    <tr>\n",
       "      <th>50%</th>\n",
       "      <td>5.800000</td>\n",
       "      <td>3.000000</td>\n",
       "      <td>4.350000</td>\n",
       "      <td>1.300000</td>\n",
       "      <td>1.000000</td>\n",
       "    </tr>\n",
       "    <tr>\n",
       "      <th>75%</th>\n",
       "      <td>6.400000</td>\n",
       "      <td>3.300000</td>\n",
       "      <td>5.100000</td>\n",
       "      <td>1.800000</td>\n",
       "      <td>2.000000</td>\n",
       "    </tr>\n",
       "    <tr>\n",
       "      <th>max</th>\n",
       "      <td>7.900000</td>\n",
       "      <td>4.400000</td>\n",
       "      <td>6.900000</td>\n",
       "      <td>2.500000</td>\n",
       "      <td>2.000000</td>\n",
       "    </tr>\n",
       "  </tbody>\n",
       "</table>\n",
       "</div>"
      ],
      "text/plain": [
       "       sepal length (cm)  sepal width (cm)  petal length (cm)  \\\n",
       "count         150.000000        150.000000         150.000000   \n",
       "mean            5.843333          3.057333           3.758000   \n",
       "std             0.828066          0.435866           1.765298   \n",
       "min             4.300000          2.000000           1.000000   \n",
       "25%             5.100000          2.800000           1.600000   \n",
       "50%             5.800000          3.000000           4.350000   \n",
       "75%             6.400000          3.300000           5.100000   \n",
       "max             7.900000          4.400000           6.900000   \n",
       "\n",
       "       petal width (cm)     species  \n",
       "count        150.000000  150.000000  \n",
       "mean           1.199333    1.000000  \n",
       "std            0.762238    0.819232  \n",
       "min            0.100000    0.000000  \n",
       "25%            0.300000    0.000000  \n",
       "50%            1.300000    1.000000  \n",
       "75%            1.800000    2.000000  \n",
       "max            2.500000    2.000000  "
      ]
     },
     "execution_count": 4,
     "metadata": {},
     "output_type": "execute_result"
    }
   ],
   "source": [
    "# Display a summary of the table information (number of datapoints, etc.)\n",
    "iris_df.info() # for technical summary\n",
    "iris_df.describe()"
   ]
  },
  {
   "cell_type": "code",
   "execution_count": 5,
   "id": "3b55cfa9",
   "metadata": {},
   "outputs": [
    {
     "data": {
      "text/plain": [
       "750"
      ]
     },
     "execution_count": 5,
     "metadata": {},
     "output_type": "execute_result"
    }
   ],
   "source": [
    "iris_df.size # number of datapoints"
   ]
  },
  {
   "cell_type": "markdown",
   "id": "6b4ef733",
   "metadata": {},
   "source": [
    "## About the dataset\n",
    "Explain what the data is in your own words. What are your features and labels? What is the mapping of your labels to the actual classes?"
   ]
  },
  {
   "cell_type": "markdown",
   "id": "13701b3d",
   "metadata": {},
   "source": [
    "This is a multivariable data set exploring linear discrimmination analysis. It deals with sepal length, sepal width, petal length, petal width and 3 species of Iris. (Paraphrased the Wikipedia article).\n",
    "\n",
    "Our features are the aforementioned \"sepal length (cm)\", \"sepal width (cm)\", \"petal length (cm)\", and \"petal width (cm)\"; and our label is \"species\".\n",
    "\n",
    "Mapping: so we're looking at each feature and their values to determine what species they best match up with.\n",
    "\n",
    "For example, in the first row we have: Sepal length: 5.1, Sepal width: 3.5, Petal length: 1.4, Petal width: 0.2 which determines that our species is \"0\" or \"setosa\"."
   ]
  },
  {
   "cell_type": "markdown",
   "id": "97c4a141",
   "metadata": {},
   "source": [
    "# Part 2: Split the dataset into train and test"
   ]
  },
  {
   "cell_type": "code",
   "execution_count": 6,
   "id": "7e5631dd",
   "metadata": {},
   "outputs": [],
   "source": [
    "# Take the dataset and split it into our features (X) and label (y)\n",
    "features = iris_df[[\"sepal length (cm)\", \"sepal width (cm)\", \"petal length (cm)\", \"petal width (cm)\"]] # X (2D array)\n",
    "label = iris_df[\"species\"] # y"
   ]
  },
  {
   "cell_type": "code",
   "execution_count": 7,
   "id": "39b65127",
   "metadata": {},
   "outputs": [],
   "source": [
    "# Use sklearn to split the features and labels into a training/test set. (90% train, 10% test)\n",
    "from sklearn.model_selection import train_test_split\n",
    "\n",
    "X_train, X_test, y_train, y_test = train_test_split(features, label, test_size=0.1, train_size=0.9) # splits into 4 arrays"
   ]
  },
  {
   "cell_type": "code",
   "execution_count": 8,
   "id": "93314bbd",
   "metadata": {},
   "outputs": [
    {
     "data": {
      "text/plain": [
       "(     sepal length (cm)  sepal width (cm)  petal length (cm)  petal width (cm)\n",
       " 53                 5.5               2.3                4.0               1.3\n",
       " 149                5.9               3.0                5.1               1.8\n",
       " 66                 5.6               3.0                4.5               1.5\n",
       " 52                 6.9               3.1                4.9               1.5\n",
       " 136                6.3               3.4                5.6               2.4\n",
       " ..                 ...               ...                ...               ...\n",
       " 38                 4.4               3.0                1.3               0.2\n",
       " 113                5.7               2.5                5.0               2.0\n",
       " 68                 6.2               2.2                4.5               1.5\n",
       " 132                6.4               2.8                5.6               2.2\n",
       " 45                 4.8               3.0                1.4               0.3\n",
       " \n",
       " [135 rows x 4 columns],\n",
       "      sepal length (cm)  sepal width (cm)  petal length (cm)  petal width (cm)\n",
       " 141                6.9               3.1                5.1               2.3\n",
       " 126                6.2               2.8                4.8               1.8\n",
       " 36                 5.5               3.5                1.3               0.2\n",
       " 137                6.4               3.1                5.5               1.8\n",
       " 86                 6.7               3.1                4.7               1.5\n",
       " 121                5.6               2.8                4.9               2.0\n",
       " 5                  5.4               3.9                1.7               0.4\n",
       " 28                 5.2               3.4                1.4               0.2\n",
       " 84                 5.4               3.0                4.5               1.5\n",
       " 101                5.8               2.7                5.1               1.9\n",
       " 11                 4.8               3.4                1.6               0.2\n",
       " 106                4.9               2.5                4.5               1.7\n",
       " 15                 5.7               4.4                1.5               0.4\n",
       " 43                 5.0               3.5                1.6               0.6\n",
       " 57                 4.9               2.4                3.3               1.0,\n",
       " 53     1\n",
       " 149    2\n",
       " 66     1\n",
       " 52     1\n",
       " 136    2\n",
       "       ..\n",
       " 38     0\n",
       " 113    2\n",
       " 68     1\n",
       " 132    2\n",
       " 45     0\n",
       " Name: species, Length: 135, dtype: int32,\n",
       " 141    2\n",
       " 126    2\n",
       " 36     0\n",
       " 137    2\n",
       " 86     1\n",
       " 121    2\n",
       " 5      0\n",
       " 28     0\n",
       " 84     1\n",
       " 101    2\n",
       " 11     0\n",
       " 106    2\n",
       " 15     0\n",
       " 43     0\n",
       " 57     1\n",
       " Name: species, dtype: int32)"
      ]
     },
     "execution_count": 8,
     "metadata": {},
     "output_type": "execute_result"
    }
   ],
   "source": [
    "X_train, X_test, y_train, y_test # for display purposes"
   ]
  },
  {
   "cell_type": "markdown",
   "id": "75c8813f",
   "metadata": {},
   "source": [
    "# Part 3: Logistic Regression"
   ]
  },
  {
   "cell_type": "code",
   "execution_count": 9,
   "id": "8d68fe7c",
   "metadata": {},
   "outputs": [],
   "source": [
    "# i. Use sklearn to train a LogisticRegression model on the training set\n",
    "from sklearn.linear_model import LogisticRegression\n",
    "\n",
    "LogReg = LogisticRegression(max_iter = 500).fit(X_train, y_train) # for fitting; use train. *limit on max inters"
   ]
  },
  {
   "cell_type": "code",
   "execution_count": 10,
   "id": "825e2ed8",
   "metadata": {},
   "outputs": [
    {
     "data": {
      "text/html": [
       "<div>\n",
       "<style scoped>\n",
       "    .dataframe tbody tr th:only-of-type {\n",
       "        vertical-align: middle;\n",
       "    }\n",
       "\n",
       "    .dataframe tbody tr th {\n",
       "        vertical-align: top;\n",
       "    }\n",
       "\n",
       "    .dataframe thead th {\n",
       "        text-align: right;\n",
       "    }\n",
       "</style>\n",
       "<table border=\"1\" class=\"dataframe\">\n",
       "  <thead>\n",
       "    <tr style=\"text-align: right;\">\n",
       "      <th></th>\n",
       "      <th>Setosa</th>\n",
       "      <th>Versicolor</th>\n",
       "      <th>Virginica</th>\n",
       "    </tr>\n",
       "  </thead>\n",
       "  <tbody>\n",
       "    <tr>\n",
       "      <th>0</th>\n",
       "      <td>0.315912</td>\n",
       "      <td>0.098862</td>\n",
       "      <td>0.585226</td>\n",
       "    </tr>\n",
       "  </tbody>\n",
       "</table>\n",
       "</div>"
      ],
      "text/plain": [
       "     Setosa  Versicolor  Virginica\n",
       "0  0.315912    0.098862   0.585226"
      ]
     },
     "execution_count": 10,
     "metadata": {},
     "output_type": "execute_result"
    }
   ],
   "source": [
    "# ii. For a sample datapoint, predict the probabilities for each possible class\n",
    "pd.DataFrame(LogReg.predict_proba([[1, 2, 3, 4]]), columns = [\"Setosa\", \"Versicolor\", \"Virginica\"]) # for the entire X_test\n",
    "\n",
    "# the probabilities for each class are the respective 3 columns."
   ]
  },
  {
   "cell_type": "code",
   "execution_count": 11,
   "id": "df1e4cd5",
   "metadata": {},
   "outputs": [
    {
     "data": {
      "text/plain": [
       "array([0])"
      ]
     },
     "execution_count": 11,
     "metadata": {},
     "output_type": "execute_result"
    }
   ],
   "source": [
    "# But now I'll test sample values from Wikipedia's chart to see if they correlerate with the correct species.\n",
    "LogReg.predict(np.array([[4.9, 3.1, 1.5, 0.1]])) # 0 meaning Setosa"
   ]
  },
  {
   "cell_type": "code",
   "execution_count": 12,
   "id": "d4051119",
   "metadata": {},
   "outputs": [
    {
     "data": {
      "text/plain": [
       "array([1])"
      ]
     },
     "execution_count": 12,
     "metadata": {},
     "output_type": "execute_result"
    }
   ],
   "source": [
    "LogReg.predict(np.array([[4.9, 2.4, 3.3, 1.0]])) # 1 meaning Versicolor"
   ]
  },
  {
   "cell_type": "code",
   "execution_count": 13,
   "id": "59869e12",
   "metadata": {},
   "outputs": [
    {
     "data": {
      "text/plain": [
       "array([2])"
      ]
     },
     "execution_count": 13,
     "metadata": {},
     "output_type": "execute_result"
    }
   ],
   "source": [
    "LogReg.predict(np.array([[6.4, 2.8, 5.6, 2.1]])) # 2 meaning Virginica"
   ]
  },
  {
   "cell_type": "code",
   "execution_count": 14,
   "id": "0236cfa6",
   "metadata": {},
   "outputs": [
    {
     "data": {
      "text/plain": [
       "0.8666666666666667"
      ]
     },
     "execution_count": 14,
     "metadata": {},
     "output_type": "execute_result"
    }
   ],
   "source": [
    "# iii. Report on the score for Logistic regression model, what does the score measure?\n",
    "LogReg.score(X_test, y_test) # for scoring; use test."
   ]
  },
  {
   "cell_type": "markdown",
   "id": "f433e8fb",
   "metadata": {},
   "source": [
    "The 0, 1, and 2 from the predictions correspond to Setosa, Versicolor, and Virginica respectively. \n",
    "\n",
    "The 0.8666666666666667 score means there's an 86% chance of this classification being correct."
   ]
  },
  {
   "cell_type": "code",
   "execution_count": 15,
   "id": "be5091be",
   "metadata": {},
   "outputs": [
    {
     "data": {
      "text/plain": [
       "array([[-0.52148695,  0.85762961, -2.43999629, -1.05024718],\n",
       "       [ 0.38738272, -0.34925058, -0.23493114, -0.7556851 ],\n",
       "       [ 0.13410423, -0.50837903,  2.67492743,  1.80593228]])"
      ]
     },
     "execution_count": 15,
     "metadata": {},
     "output_type": "execute_result"
    }
   ],
   "source": [
    "# iv. Extract the coefficents and intercepts for the boundary line(s)\n",
    "LogReg.coef_"
   ]
  },
  {
   "cell_type": "code",
   "execution_count": 16,
   "id": "57511efb",
   "metadata": {},
   "outputs": [
    {
     "data": {
      "text/plain": [
       "array([ 10.50894184,   3.05864558, -13.56758742])"
      ]
     },
     "execution_count": 16,
     "metadata": {},
     "output_type": "execute_result"
    }
   ],
   "source": [
    "LogReg.intercept_"
   ]
  },
  {
   "cell_type": "markdown",
   "id": "4f9ccf0e",
   "metadata": {},
   "source": [
    "# Part 4: Support Vector Machine"
   ]
  },
  {
   "cell_type": "code",
   "execution_count": 17,
   "id": "370582cf",
   "metadata": {},
   "outputs": [],
   "source": [
    "# i. Use sklearn to train a Support Vector Classifier on the training set\n",
    "from sklearn import svm\n",
    "\n",
    "# model = svm.SVC(kernel = \"linear\")\n",
    "# model.fit(X_train, y_train)\n",
    "# svm.SVC(LogReg, X_train, y_train)\n",
    "\n",
    "svm_model = svm.SVC(probability = True).fit(features, label)"
   ]
  },
  {
   "cell_type": "code",
   "execution_count": 18,
   "id": "8bd72b5d",
   "metadata": {},
   "outputs": [
    {
     "data": {
      "text/html": [
       "<div>\n",
       "<style scoped>\n",
       "    .dataframe tbody tr th:only-of-type {\n",
       "        vertical-align: middle;\n",
       "    }\n",
       "\n",
       "    .dataframe tbody tr th {\n",
       "        vertical-align: top;\n",
       "    }\n",
       "\n",
       "    .dataframe thead th {\n",
       "        text-align: right;\n",
       "    }\n",
       "</style>\n",
       "<table border=\"1\" class=\"dataframe\">\n",
       "  <thead>\n",
       "    <tr style=\"text-align: right;\">\n",
       "      <th></th>\n",
       "      <th>Setosa</th>\n",
       "      <th>Versicolor</th>\n",
       "      <th>Virginica</th>\n",
       "    </tr>\n",
       "  </thead>\n",
       "  <tbody>\n",
       "    <tr>\n",
       "      <th>0</th>\n",
       "      <td>0.251848</td>\n",
       "      <td>0.237385</td>\n",
       "      <td>0.510768</td>\n",
       "    </tr>\n",
       "  </tbody>\n",
       "</table>\n",
       "</div>"
      ],
      "text/plain": [
       "     Setosa  Versicolor  Virginica\n",
       "0  0.251848    0.237385   0.510768"
      ]
     },
     "execution_count": 18,
     "metadata": {},
     "output_type": "execute_result"
    }
   ],
   "source": [
    "# ii. For a sample datapoint, predict the probabilities for each possible class\n",
    "pd.DataFrame(svm_model.predict_proba([[1, 2, 3, 4]]), columns = [\"Setosa\", \"Versicolor\", \"Virginica\"])  # for the entire X_test\n",
    "\n",
    "# the probabilities for each class are the respective 3 columns."
   ]
  },
  {
   "cell_type": "code",
   "execution_count": 19,
   "id": "57001251",
   "metadata": {},
   "outputs": [
    {
     "data": {
      "text/plain": [
       "array([0])"
      ]
     },
     "execution_count": 19,
     "metadata": {},
     "output_type": "execute_result"
    }
   ],
   "source": [
    "# Like before, I'll test sample values from Wikipedia's chart to see if they correlerate with the correct species.\n",
    "svm_model.predict(np.array([[4.9, 3.1, 1.5, 0.1]])) # 0 meaning Setosa"
   ]
  },
  {
   "cell_type": "code",
   "execution_count": 20,
   "id": "5f54c749",
   "metadata": {},
   "outputs": [
    {
     "data": {
      "text/plain": [
       "array([1])"
      ]
     },
     "execution_count": 20,
     "metadata": {},
     "output_type": "execute_result"
    }
   ],
   "source": [
    "svm_model.predict(np.array([[4.9, 2.4, 3.3, 1.0]])) # 1 meaning Versicolor"
   ]
  },
  {
   "cell_type": "code",
   "execution_count": 21,
   "id": "a42b358d",
   "metadata": {},
   "outputs": [
    {
     "data": {
      "text/plain": [
       "array([2])"
      ]
     },
     "execution_count": 21,
     "metadata": {},
     "output_type": "execute_result"
    }
   ],
   "source": [
    "svm_model.predict(np.array([[6.4, 2.8, 5.6, 2.1]])) # 2 meaning Virginica"
   ]
  },
  {
   "cell_type": "code",
   "execution_count": 22,
   "id": "e72b0cea",
   "metadata": {},
   "outputs": [
    {
     "data": {
      "text/plain": [
       "0.9333333333333333"
      ]
     },
     "execution_count": 22,
     "metadata": {},
     "output_type": "execute_result"
    }
   ],
   "source": [
    "# iii. Report on the score for the SVM, what does the score measure?\n",
    "svm_model.score(X_test, y_test)"
   ]
  },
  {
   "cell_type": "markdown",
   "id": "7859d5c7",
   "metadata": {},
   "source": [
    "The 0, 1, and 2 from the predictions correspond to Setosa, Versicolor, and Virginica respectively. \n",
    "\n",
    "The 0.9333333333333333 score means there's an 93% chance of this classification being correct."
   ]
  },
  {
   "cell_type": "markdown",
   "id": "28653194",
   "metadata": {},
   "source": [
    "# Part 5: Neural Network"
   ]
  },
  {
   "cell_type": "code",
   "execution_count": 23,
   "id": "3274dbe2",
   "metadata": {},
   "outputs": [],
   "source": [
    "# i. Use sklearn to train a Neural Network (MLP Classifier) on the training set\n",
    "from sklearn.neural_network import MLPClassifier\n",
    "\n",
    "mlp_model_lbfgs = MLPClassifier(solver='lbfgs', alpha=1e-5, hidden_layer_sizes=(15,), random_state=1).fit(features, label)"
   ]
  },
  {
   "cell_type": "code",
   "execution_count": 24,
   "id": "1c70b02b",
   "metadata": {},
   "outputs": [
    {
     "data": {
      "text/html": [
       "<div>\n",
       "<style scoped>\n",
       "    .dataframe tbody tr th:only-of-type {\n",
       "        vertical-align: middle;\n",
       "    }\n",
       "\n",
       "    .dataframe tbody tr th {\n",
       "        vertical-align: top;\n",
       "    }\n",
       "\n",
       "    .dataframe thead th {\n",
       "        text-align: right;\n",
       "    }\n",
       "</style>\n",
       "<table border=\"1\" class=\"dataframe\">\n",
       "  <thead>\n",
       "    <tr style=\"text-align: right;\">\n",
       "      <th></th>\n",
       "      <th>Setosa</th>\n",
       "      <th>Versicolor</th>\n",
       "      <th>Virginica</th>\n",
       "    </tr>\n",
       "  </thead>\n",
       "  <tbody>\n",
       "    <tr>\n",
       "      <th>0</th>\n",
       "      <td>0.0</td>\n",
       "      <td>1.0</td>\n",
       "      <td>9.018592e-15</td>\n",
       "    </tr>\n",
       "  </tbody>\n",
       "</table>\n",
       "</div>"
      ],
      "text/plain": [
       "   Setosa  Versicolor     Virginica\n",
       "0     0.0         1.0  9.018592e-15"
      ]
     },
     "execution_count": 24,
     "metadata": {},
     "output_type": "execute_result"
    }
   ],
   "source": [
    "# ii. For a sample datapoint, predict the probabilities for each possible class\n",
    "pd.DataFrame(mlp_model_lbfgs.predict_proba([[1, 2, 3, 4]]), columns = [\"Setosa\", \"Versicolor\", \"Virginica\"])"
   ]
  },
  {
   "cell_type": "code",
   "execution_count": 25,
   "id": "f983a37d",
   "metadata": {},
   "outputs": [
    {
     "data": {
      "text/plain": [
       "array([0])"
      ]
     },
     "execution_count": 25,
     "metadata": {},
     "output_type": "execute_result"
    }
   ],
   "source": [
    "# Like before, I'll test sample values from Wikipedia's chart to see if they correlerate with the correct species.\n",
    "mlp_model_lbfgs.predict(np.array([[4.9, 3.1, 1.5, 0.1]])) # 0 meaning Setosa"
   ]
  },
  {
   "cell_type": "code",
   "execution_count": 26,
   "id": "8bc02056",
   "metadata": {},
   "outputs": [
    {
     "data": {
      "text/plain": [
       "array([1])"
      ]
     },
     "execution_count": 26,
     "metadata": {},
     "output_type": "execute_result"
    }
   ],
   "source": [
    "mlp_model_lbfgs.predict(np.array([[4.9, 2.4, 3.3, 1.0]])) # 1 meaning Versicolor"
   ]
  },
  {
   "cell_type": "code",
   "execution_count": 27,
   "id": "e957475e",
   "metadata": {},
   "outputs": [
    {
     "data": {
      "text/plain": [
       "array([2])"
      ]
     },
     "execution_count": 27,
     "metadata": {},
     "output_type": "execute_result"
    }
   ],
   "source": [
    "mlp_model_lbfgs.predict(np.array([[6.4, 2.8, 5.6, 2.1]])) # 2 meaning Virginica"
   ]
  },
  {
   "cell_type": "code",
   "execution_count": 28,
   "id": "bf9a9138",
   "metadata": {},
   "outputs": [
    {
     "data": {
      "text/plain": [
       "1.0"
      ]
     },
     "execution_count": 28,
     "metadata": {},
     "output_type": "execute_result"
    }
   ],
   "source": [
    "# iii. Report on the score for the Neural Network, what does the score measure?\n",
    "mlp_model_lbfgs.score(X_test, y_test)"
   ]
  },
  {
   "attachments": {},
   "cell_type": "markdown",
   "id": "84f1569c",
   "metadata": {},
   "source": [
    "The 0, 1, and 2 from the predictions correspond to Setosa, Versicolor, and Virginica respectively.\n",
    "\n",
    "The 1 score means there's an 100% chance of this classification being correct."
   ]
  },
  {
   "cell_type": "code",
   "execution_count": 29,
   "id": "a5971e98",
   "metadata": {},
   "outputs": [],
   "source": [
    "# iv: Experiment with different options for the neural network, report on your best configuration (the highest score I was able to achieve was 0.8666)\n",
    "mlp_model_sgd = MLPClassifier(max_iter = 1500, solver='sgd', alpha=1e-5, hidden_layer_sizes=(15,), random_state=1).fit(features, label)"
   ]
  },
  {
   "cell_type": "code",
   "execution_count": 30,
   "id": "d26a1175",
   "metadata": {},
   "outputs": [
    {
     "data": {
      "text/html": [
       "<div>\n",
       "<style scoped>\n",
       "    .dataframe tbody tr th:only-of-type {\n",
       "        vertical-align: middle;\n",
       "    }\n",
       "\n",
       "    .dataframe tbody tr th {\n",
       "        vertical-align: top;\n",
       "    }\n",
       "\n",
       "    .dataframe thead th {\n",
       "        text-align: right;\n",
       "    }\n",
       "</style>\n",
       "<table border=\"1\" class=\"dataframe\">\n",
       "  <thead>\n",
       "    <tr style=\"text-align: right;\">\n",
       "      <th></th>\n",
       "      <th>Setosa</th>\n",
       "      <th>Versicolor</th>\n",
       "      <th>Virginica</th>\n",
       "    </tr>\n",
       "  </thead>\n",
       "  <tbody>\n",
       "    <tr>\n",
       "      <th>0</th>\n",
       "      <td>0.000004</td>\n",
       "      <td>0.000076</td>\n",
       "      <td>0.999921</td>\n",
       "    </tr>\n",
       "  </tbody>\n",
       "</table>\n",
       "</div>"
      ],
      "text/plain": [
       "     Setosa  Versicolor  Virginica\n",
       "0  0.000004    0.000076   0.999921"
      ]
     },
     "execution_count": 30,
     "metadata": {},
     "output_type": "execute_result"
    }
   ],
   "source": [
    "pd.DataFrame(mlp_model_sgd.predict_proba([[1, 2, 3, 4]]), columns = [\"Setosa\", \"Versicolor\", \"Virginica\"])"
   ]
  },
  {
   "cell_type": "code",
   "execution_count": 38,
   "id": "79c66b34",
   "metadata": {},
   "outputs": [
    {
     "data": {
      "text/plain": [
       "1.0"
      ]
     },
     "execution_count": 38,
     "metadata": {},
     "output_type": "execute_result"
    }
   ],
   "source": [
    "mlp_model_sgd.score(X_test, y_test) # I got 1 in all three cases."
   ]
  },
  {
   "cell_type": "code",
   "execution_count": 32,
   "id": "a5867de1",
   "metadata": {},
   "outputs": [],
   "source": [
    "mlp_model_adam = MLPClassifier(max_iter = 1550, solver='adam', alpha=1e-5, hidden_layer_sizes=(15,), random_state=1).fit(features, label)"
   ]
  },
  {
   "cell_type": "code",
   "execution_count": 33,
   "id": "4c50d358",
   "metadata": {},
   "outputs": [
    {
     "data": {
      "text/html": [
       "<div>\n",
       "<style scoped>\n",
       "    .dataframe tbody tr th:only-of-type {\n",
       "        vertical-align: middle;\n",
       "    }\n",
       "\n",
       "    .dataframe tbody tr th {\n",
       "        vertical-align: top;\n",
       "    }\n",
       "\n",
       "    .dataframe thead th {\n",
       "        text-align: right;\n",
       "    }\n",
       "</style>\n",
       "<table border=\"1\" class=\"dataframe\">\n",
       "  <thead>\n",
       "    <tr style=\"text-align: right;\">\n",
       "      <th></th>\n",
       "      <th>Setosa</th>\n",
       "      <th>Versicolor</th>\n",
       "      <th>Virginica</th>\n",
       "    </tr>\n",
       "  </thead>\n",
       "  <tbody>\n",
       "    <tr>\n",
       "      <th>0</th>\n",
       "      <td>0.000001</td>\n",
       "      <td>0.000001</td>\n",
       "      <td>0.999998</td>\n",
       "    </tr>\n",
       "  </tbody>\n",
       "</table>\n",
       "</div>"
      ],
      "text/plain": [
       "     Setosa  Versicolor  Virginica\n",
       "0  0.000001    0.000001   0.999998"
      ]
     },
     "execution_count": 33,
     "metadata": {},
     "output_type": "execute_result"
    }
   ],
   "source": [
    "pd.DataFrame(mlp_model_adam.predict_proba([[1, 2, 3, 4]]), columns = [\"Setosa\", \"Versicolor\", \"Virginica\"])"
   ]
  },
  {
   "cell_type": "code",
   "execution_count": 34,
   "id": "06657e78",
   "metadata": {},
   "outputs": [
    {
     "data": {
      "text/plain": [
       "1.0"
      ]
     },
     "execution_count": 34,
     "metadata": {},
     "output_type": "execute_result"
    }
   ],
   "source": [
    "mlp_model_adam.score(X_test, y_test)"
   ]
  },
  {
   "cell_type": "markdown",
   "id": "bf1ed681",
   "metadata": {},
   "source": [
    "# Part 6: K-Nearest Neighbors"
   ]
  },
  {
   "cell_type": "code",
   "execution_count": 35,
   "id": "f326ece1",
   "metadata": {},
   "outputs": [],
   "source": [
    "# i. Use sklearn to 'train' a k-Neighbors Classifier\n",
    "# Note: KNN is a nonparametric model and technically doesn't require training\n",
    "# fit will essentially load the data into the model see link below for more information\n",
    "# https://stats.stackexchange.com/questions/349842/why-do-we-need-to-fit-a-k-nearest-neighbors-classifier\n",
    "from sklearn.neighbors import KNeighborsClassifier\n",
    "\n",
    "KNN_model = KNeighborsClassifier(n_neighbors=3).fit(X_train, y_train) # for fitting; use train. *limit on max inters"
   ]
  },
  {
   "cell_type": "code",
   "execution_count": 36,
   "id": "5a9ab9e4",
   "metadata": {},
   "outputs": [
    {
     "data": {
      "text/html": [
       "<div>\n",
       "<style scoped>\n",
       "    .dataframe tbody tr th:only-of-type {\n",
       "        vertical-align: middle;\n",
       "    }\n",
       "\n",
       "    .dataframe tbody tr th {\n",
       "        vertical-align: top;\n",
       "    }\n",
       "\n",
       "    .dataframe thead th {\n",
       "        text-align: right;\n",
       "    }\n",
       "</style>\n",
       "<table border=\"1\" class=\"dataframe\">\n",
       "  <thead>\n",
       "    <tr style=\"text-align: right;\">\n",
       "      <th></th>\n",
       "      <th>Setosa</th>\n",
       "      <th>Versicolor</th>\n",
       "      <th>Virginica</th>\n",
       "    </tr>\n",
       "  </thead>\n",
       "  <tbody>\n",
       "    <tr>\n",
       "      <th>0</th>\n",
       "      <td>0.0</td>\n",
       "      <td>1.0</td>\n",
       "      <td>0.0</td>\n",
       "    </tr>\n",
       "  </tbody>\n",
       "</table>\n",
       "</div>"
      ],
      "text/plain": [
       "   Setosa  Versicolor  Virginica\n",
       "0     0.0         1.0        0.0"
      ]
     },
     "execution_count": 36,
     "metadata": {},
     "output_type": "execute_result"
    }
   ],
   "source": [
    "# ii. For a sample datapoint, predict the probabilities for each possible class\n",
    "pd.DataFrame(KNN_model.predict_proba([[1, 2, 3, 4]]), columns = [\"Setosa\", \"Versicolor\", \"Virginica\"])"
   ]
  },
  {
   "cell_type": "code",
   "execution_count": 37,
   "id": "4279699c",
   "metadata": {},
   "outputs": [
    {
     "data": {
      "text/plain": [
       "0.9333333333333333"
      ]
     },
     "execution_count": 37,
     "metadata": {},
     "output_type": "execute_result"
    }
   ],
   "source": [
    "# iii. Report on the score for kNN, what does the score measure?\n",
    "KNN_model.score(X_test, y_test)"
   ]
  },
  {
   "cell_type": "markdown",
   "id": "b1a0f498",
   "metadata": {},
   "source": [
    "The 0.9333333333333333 score means there's an 93% chance of this classification being correct."
   ]
  },
  {
   "cell_type": "markdown",
   "id": "1264f04f",
   "metadata": {},
   "source": [
    "# Part 7: Conclusions and takeaways"
   ]
  },
  {
   "cell_type": "markdown",
   "id": "0c26ca3d",
   "metadata": {},
   "source": [
    "In your own words describe the results of the notebook. Which model(s) performed the best on the dataset? Why do you think that is? Did anything surprise you about the exercise?"
   ]
  },
  {
   "cell_type": "markdown",
   "id": "95b31166",
   "metadata": {},
   "source": [
    "Logistic: \n",
    "probabilties 0.315912\t0.098862\t0.585226\n",
    "score: 0.8666666666666667\n",
    "\n",
    "SVM: \n",
    "probabilities: 0.251848\t0.237385\t0.510768\n",
    "score: 0.9333333333333333\n",
    "\n",
    "Neural Network\n",
    "lbfgs\n",
    "probabilties: 0.0\t1.0\t9.018592e-15\n",
    "score: 1\n",
    "\n",
    "sgd\n",
    "probabilties: 0.000004\t0.000076\t0.999921\n",
    "score: 1\n",
    "\n",
    "adam\n",
    "probabilities: 0.000001\t0.000001\t0.999998\n",
    "score: 1\n",
    "\n",
    "KNN\n",
    "probabilities: 0.0\t1.0\t0.0\n",
    "score: 0.9333333333333333\n",
    "\n",
    "It seems like Neural Networks performed the best on the dataset.\n",
    "\n",
    "But I've also different scores upon each rerun from all models netting the same score (either all 1s, 86%, and 93% etc).\n",
    "\n",
    "I assume this is due to reshuffling as I reran my code several times and used max_iter where appropriate, sometimes I got all 1s which is possibility but doesn't seem right? I would also get 86% and now I've got 93% I'll just leave this as is.\n",
    "\n",
    "For Part 5 iv. you said that the highest score you got was 86%, I got that as well during one of the runs, but now I have 100%.\n",
    "\n",
    "The main surprise is the aforementioned shuffling and my scores being sporadic."
   ]
  }
 ],
 "metadata": {
  "kernelspec": {
   "display_name": "Python 3",
   "language": "python",
   "name": "python3"
  },
  "language_info": {
   "codemirror_mode": {
    "name": "ipython",
    "version": 3
   },
   "file_extension": ".py",
   "mimetype": "text/x-python",
   "name": "python",
   "nbconvert_exporter": "python",
   "pygments_lexer": "ipython3",
   "version": "3.8.8"
  }
 },
 "nbformat": 4,
 "nbformat_minor": 5
}
